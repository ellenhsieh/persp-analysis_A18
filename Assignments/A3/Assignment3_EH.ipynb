{
 "cells": [
  {
   "cell_type": "markdown",
   "metadata": {},
   "source": [
    "# Assignment 3\n",
    "\n",
    "### MACSS 3000, Dr. Evans\n",
    "\n",
    "### Ellen Hsieh"
   ]
  },
  {
   "cell_type": "code",
   "execution_count": 1,
   "metadata": {},
   "outputs": [],
   "source": [
    "import numpy as np\n",
    "import matplotlib.pyplot as plt\n",
    "from matplotlib.ticker import MultipleLocator"
   ]
  },
  {
   "cell_type": "markdown",
   "metadata": {},
   "source": [
    "### 2. Simulating your income"
   ]
  },
  {
   "cell_type": "markdown",
   "metadata": {},
   "source": [
    "#### (a) Simulate 10,000 different realizations of my lifetime income"
   ]
  },
  {
   "cell_type": "markdown",
   "metadata": {},
   "source": [
    "$$\n",
    "\\begin{aligned} \n",
    "\\ln(\\textit{inc}_{2020}) &= \\ln(\\textit{inc}_0) + \\ln(\\varepsilon_{2020}) \\\\\n",
    "\\ln(\\textit{inc}_{t})    &= (1-\\rho) [\\ln(\\textit{inc}_0) + g(t-2020)] \n",
    "                         + \\rho \\ln(\\textit{inc}_{t-1}) + \\ln(\\varepsilon_{t}) \\ \\\n",
    "                          \\forall 2021 \\leq t \\leq 2059\n",
    "\\end{aligned} \n",
    "$$"
   ]
  },
  {
   "cell_type": "code",
   "execution_count": 2,
   "metadata": {},
   "outputs": [],
   "source": [
    "# create a simulation model for MACSS students lifetime income\n",
    "def macss_income_sim(p):\n",
    "    \n",
    "    \"\"\"\n",
    "    Requires a simulation profile, p, structured as a dictionary\n",
    "    \n",
    "    p = {\n",
    "        'inc'         : 80000,      #starting income\n",
    "        'rho'         : 0.4,        #dependence of today’s income on last period’s income\n",
    "        'mu'          : 0,          #mean\n",
    "        'sd'          : 0.13,       #standard deviation\n",
    "        'gr'          : 0.025,      #growth rate\n",
    "        'st_year'     : int(2020),  #start year\n",
    "        'wr_years'    : 40,         #years to work\n",
    "        'num_draws'   : 10000       #simulations\n",
    "    }\n",
    "    \"\"\"    \n",
    "\n",
    "    #set random seed\n",
    "    np.random.seed(524)\n",
    "\n",
    "    inc_errors = np.random.normal(p['mu'], p['sd'] , (p['wr_years'], p['num_draws']))\n",
    "\n",
    "    #create a matrix of dim (wr_years, num_draws)\n",
    "    ln_macss_inc = np.zeros((p['wr_years'], p['num_draws']))\n",
    "\n",
    "    #fill the matrix\n",
    "    ln_macss_inc[0, :] = np.log(p['inc']) + inc_errors[0, :]\n",
    "\n",
    "    #loop and apply model\n",
    "    for yr in range(1, p['wr_years']):\n",
    "        ln_macss_inc[yr, :] = ((1- p['rho']) * (np.log(p['inc']) + p['gr']* yr) + \n",
    "                                               p['rho'] * ln_macss_inc[yr - 1, :] + inc_errors[yr, :])\n",
    "    \n",
    "    macss_inc = np.exp(ln_macss_inc) \n",
    "    return macss_inc"
   ]
  },
  {
   "cell_type": "code",
   "execution_count": 3,
   "metadata": {},
   "outputs": [
    {
     "name": "stdout",
     "output_type": "stream",
     "text": [
      "[[ 66409.15585396  98274.13534194 101939.81109509 ...  98720.39690442\n",
      "   72404.51636886  68710.32820307]\n",
      " [ 80020.53020329  67383.19350738  84557.85626308 ...  68247.7770509\n",
      "   74518.33613244  80555.96068584]\n",
      " [ 75805.26636606  66134.42494243  91458.20304692 ...  67268.53350159\n",
      "   90012.42673528  80645.62355527]\n",
      " ...\n",
      " [272690.56519108 217821.73027242 184724.24512469 ... 159922.45424852\n",
      "  253961.68337673 209741.55004062]\n",
      " [231539.17420799 202509.15149494 197955.96626493 ... 199502.43481758\n",
      "  210951.71828579 205420.27946389]\n",
      " [197895.95201384 165115.10025278 172644.86927513 ... 248654.44847819\n",
      "  234237.14656466 221566.29879732]]\n"
     ]
    }
   ],
   "source": [
    "# simulate the lifetime income with initial income = 80000, mu = 0, sd = 0.13, g = 0.025\n",
    "simulation_profile = {\n",
    "    'inc'         : 80000,      \n",
    "    'rho'         : 0.4,        \n",
    "    'mu'          : 0,          \n",
    "    'sd'          : 0.13,        \n",
    "    'gr'          : 0.025,      \n",
    "    'st_year'     : int(2020),  \n",
    "    'wr_years'    : 40, \n",
    "    'num_draws'   : 10000       \n",
    "    }\n",
    "\n",
    "macss_inc = macss_income_sim(simulation_profile)\n",
    "print(macss_inc)"
   ]
  },
  {
   "cell_type": "code",
   "execution_count": 4,
   "metadata": {},
   "outputs": [
    {
     "data": {
      "text/plain": [
       "Text(0,0.5,'Annual Income (\\\\$s)')"
      ]
     },
     "execution_count": 4,
     "metadata": {},
     "output_type": "execute_result"
    },
    {
     "data": {
      "image/png": "[encoded data removed]",
      "text/plain": [
       "<Figure size 432x288 with 1 Axes>"
      ]
     },
     "metadata": {
      "needs_background": "light"
     },
     "output_type": "display_data"
    }
   ],
   "source": [
    "# plot the lifetime income path of individual 214\n",
    "%matplotlib inline\n",
    "p = simulation_profile\n",
    "year_vec = np.arange(p['st_year'], p['st_year'] + p['wr_years'])\n",
    "individual = 214\n",
    "fig, ax = plt.subplots()\n",
    "plt.plot(year_vec, macss_inc[:, individual])\n",
    "minorLocator = MultipleLocator(1)\n",
    "ax.xaxis.set_minor_locator(minorLocator)\n",
    "plt.grid(b=True, which='major', color='0.65', linestyle='-')\n",
    "plt.title('Individual simulated lifetime income for MACSS students', fontsize=10)\n",
    "plt.xlabel(r'Year $t$')\n",
    "plt.ylabel(r'Annual Income (\\$s)')"
   ]
  },
  {
   "cell_type": "markdown",
   "metadata": {},
   "source": [
    "#### (b) Plot a histogram with 50 bins of year t = 2020 initial income for each of the 10,000 simulations"
   ]
  },
  {
   "cell_type": "code",
   "execution_count": 5,
   "metadata": {},
   "outputs": [
    {
     "data": {
      "text/plain": [
       "Text(0.5,1,'MACSS class of 2020 in Income Bins')"
      ]
     },
     "execution_count": 5,
     "metadata": {},
     "output_type": "execute_result"
    },
    {
     "data": {
      "image/png": "[encoded data removed]",
      "text/plain": [
       "<Figure size 432x288 with 1 Axes>"
      ]
     },
     "metadata": {
      "needs_background": "light"
     },
     "output_type": "display_data"
    }
   ],
   "source": [
    "# plot the histogram\n",
    "plt.hist(macss_inc[0,:], bins=50)\n",
    "plt.xlabel(\"Income Distribution\")\n",
    "plt.ylabel(\"Number of People\")\n",
    "plt.title(\"MACSS class of 2020 in Income Bins\")"
   ]
  },
  {
   "cell_type": "markdown",
   "metadata": {},
   "source": [
    "This districution is normally distributed but a little bit skewed to the right."
   ]
  },
  {
   "cell_type": "code",
   "execution_count": 6,
   "metadata": {},
   "outputs": [
    {
     "data": {
      "text/plain": [
       "0.0417"
      ]
     },
     "execution_count": 6,
     "metadata": {},
     "output_type": "execute_result"
    }
   ],
   "source": [
    "income = macss_inc[0, :]\n",
    "len(income [income > 100000]) / len(income)"
   ]
  },
  {
   "cell_type": "markdown",
   "metadata": {},
   "source": [
    "4.17% of the class will earn more than $100,000 in the first year."
   ]
  },
  {
   "cell_type": "code",
   "execution_count": 7,
   "metadata": {},
   "outputs": [
    {
     "data": {
      "text/plain": [
       "0.1512"
      ]
     },
     "execution_count": 7,
     "metadata": {},
     "output_type": "execute_result"
    }
   ],
   "source": [
    "income = macss_inc[0, :]\n",
    "len(income [income < 70000]) / len(income)"
   ]
  },
  {
   "cell_type": "markdown",
   "metadata": {},
   "source": [
    "15.12% of class will earn less than 70,000 in the first year."
   ]
  },
  {
   "cell_type": "markdown",
   "metadata": {},
   "source": [
    "#### (c) Plot the histogram of how many years it takes to pay the loan in each of your 10,000 simulations "
   ]
  },
  {
   "cell_type": "code",
   "execution_count": 8,
   "metadata": {},
   "outputs": [],
   "source": [
    "# calculate the number of years to pay off the loan\n",
    "loan = 0.1 * macss_inc\n",
    "\n",
    "year_to_payoff = []\n",
    "for i in range(10000):\n",
    "    paid=loan[:,i][0]\n",
    "    for j in range(1,40):\n",
    "        if paid < 95000: \n",
    "            paid = paid + loan[:,i][j]\n",
    "        else:\n",
    "            year_to_payoff.append(j)\n",
    "            break"
   ]
  },
  {
   "cell_type": "code",
   "execution_count": 9,
   "metadata": {},
   "outputs": [
    {
     "data": {
      "text/plain": [
       "Text(0.5,1,'Years to Pay Off Load')"
      ]
     },
     "execution_count": 9,
     "metadata": {},
     "output_type": "execute_result"
    },
    {
     "data": {
      "image/png": "[encoded data removed]",
      "text/plain": [
       "<Figure size 432x288 with 1 Axes>"
      ]
     },
     "metadata": {
      "needs_background": "light"
     },
     "output_type": "display_data"
    }
   ],
   "source": [
    "# plot the histogram\n",
    "plt.hist(year_to_payoff, bins=5)\n",
    "plt.xlabel(\"Year(after graduation)\")\n",
    "plt.ylabel(\"Number of Simulations\")\n",
    "plt.title(\"Years to Pay Off Load\")"
   ]
  },
  {
   "cell_type": "code",
   "execution_count": 10,
   "metadata": {},
   "outputs": [
    {
     "data": {
      "text/plain": [
       "0.1678"
      ]
     },
     "execution_count": 10,
     "metadata": {},
     "output_type": "execute_result"
    }
   ],
   "source": [
    "# calculate the percentage of the simulations which can pay off the loan in 10 years\n",
    "perc_before_10y = 0\n",
    "\n",
    "for i in range(10000):\n",
    "    if year_to_payoff[i] <= 10:\n",
    "        perc_before_10y += 1\n",
    "        \n",
    "perc_before_10y/10000"
   ]
  },
  {
   "cell_type": "markdown",
   "metadata": {},
   "source": [
    "16.78% of the simulations are able to pay off the loan in 10 years."
   ]
  },
  {
   "cell_type": "markdown",
   "metadata": {},
   "source": [
    "#### (d) Plot the new histogram of how many years it takes to pay your loan of according to new income and standard deviation"
   ]
  },
  {
   "cell_type": "code",
   "execution_count": 11,
   "metadata": {},
   "outputs": [
    {
     "name": "stdout",
     "output_type": "stream",
     "text": [
      "[[ 70550.46142451 117783.33011091 123561.20729139 ... 118483.24080508\n",
      "   78992.81966812  73764.25171169]\n",
      " [ 89615.63768821  71575.56495871  96317.75493523 ...  72778.88084775\n",
      "   81644.3347736   90400.57899801]\n",
      " [ 82955.30101689  69396.06916251 106035.55593099 ...  70956.3661129\n",
      "  103848.93176006  89949.09077038]\n",
      " ...\n",
      " [338309.11761165 252187.52025149 203293.03644369 ... 168361.21927259\n",
      "  308250.29858492 240024.49205936]\n",
      " [271061.07048342 227502.32436192 220836.5697397  ... 223095.32811759\n",
      "  239983.96514044 231788.44418303]\n",
      " [219057.46748997 172865.33333479 183245.71710131 ... 295275.8618388\n",
      "  273090.00167035 253934.86273481]]\n"
     ]
    }
   ],
   "source": [
    "# new prifile to simulate\n",
    "new_simulation_profile = {\n",
    "    'inc'         : 90000,      \n",
    "    'rho'         : 0.4,        \n",
    "    'mu'          : 0,          \n",
    "    'sd'          : 0.17,        \n",
    "    'gr'          : 0.025,      \n",
    "    'st_year'     : int(2020),  \n",
    "    'wr_years'    : 40,         \n",
    "    'num_draws'   : 10000       \n",
    "    }\n",
    "\n",
    "new_macss_inc = macss_income_sim(new_simulation_profile)\n",
    "print(new_macss_inc)"
   ]
  },
  {
   "cell_type": "code",
   "execution_count": 12,
   "metadata": {},
   "outputs": [],
   "source": [
    "# calculate the new number of years to pay off the loan\n",
    "loan = 0.1 * new_macss_inc\n",
    "\n",
    "new_year_to_payoff = []\n",
    "for i in range(10000):\n",
    "    paid=loan[:,i][0]\n",
    "    for j in range(1,40):\n",
    "        if paid < 95000: \n",
    "            paid = paid + loan[:,i][j]\n",
    "        else:\n",
    "            new_year_to_payoff.append(j)\n",
    "            break"
   ]
  },
  {
   "cell_type": "code",
   "execution_count": 13,
   "metadata": {},
   "outputs": [
    {
     "data": {
      "text/plain": [
       "Text(0.5,1,'Years to Pay Off Load')"
      ]
     },
     "execution_count": 13,
     "metadata": {},
     "output_type": "execute_result"
    },
    {
     "data": {
      "image/png": "[encoded data removed]",
      "text/plain": [
       "<Figure size 432x288 with 1 Axes>"
      ]
     },
     "metadata": {
      "needs_background": "light"
     },
     "output_type": "display_data"
    }
   ],
   "source": [
    "# plot the new histogram\n",
    "plt.hist(new_year_to_payoff, bins=5)\n",
    "plt.xlabel(\"Year(after graduation)\")\n",
    "plt.ylabel(\"Number of Simulations\")\n",
    "plt.title(\"Years to Pay Off Load\")"
   ]
  },
  {
   "cell_type": "code",
   "execution_count": 14,
   "metadata": {},
   "outputs": [
    {
     "data": {
      "text/plain": [
       "0.7602"
      ]
     },
     "execution_count": 14,
     "metadata": {},
     "output_type": "execute_result"
    }
   ],
   "source": [
    "# new percentage of simulations which can pay off the loan in 10 years\n",
    "new_perc_before_10y = 0\n",
    "\n",
    "for i in range(10000):\n",
    "    if new_year_to_payoff[i] <= 10:\n",
    "        new_perc_before_10y += 1\n",
    "        \n",
    "new_perc_before_10y/10000"
   ]
  },
  {
   "cell_type": "markdown",
   "metadata": {},
   "source": [
    "76.02% of the simulations are able to pay off the loan in 10 years."
   ]
  }
 ],
 "metadata": {
  "kernelspec": {
   "display_name": "Python 3",
   "language": "python",
   "name": "python3"
  },
  "language_info": {
   "codemirror_mode": {
    "name": "ipython",
    "version": 3
   },
   "file_extension": ".py",
   "mimetype": "text/x-python",
   "name": "python",
   "nbconvert_exporter": "python",
   "pygments_lexer": "ipython3",
   "version": "3.7.0"
  }
 },
 "nbformat": 4,
 "nbformat_minor": 2
}
