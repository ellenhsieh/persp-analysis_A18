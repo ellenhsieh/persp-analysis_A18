{
 "cells": [
  {
   "cell_type": "code",
   "execution_count": 1,
   "metadata": {},
   "outputs": [],
   "source": [
    "import glob, os\n",
    "import numpy as np\n",
    "from sklearn import linear_model\n",
    "import pandas as pd\n",
    "import matplotlib.pyplot as plt\n",
    "from sklearn.metrics import mean_squared_error, r2_score"
   ]
  },
  {
   "cell_type": "code",
   "execution_count": 2,
   "metadata": {},
   "outputs": [],
   "source": [
    "# fetching the file with 'txt' filename ext.\n",
    "#for file in glob.glob(\"*.txt\"):\n",
    "#    print(file)"
   ]
  },
  {
   "cell_type": "code",
   "execution_count": 3,
   "metadata": {},
   "outputs": [],
   "source": [
    "# open and rename the column names of the imported files\n",
    "best = pd.read_csv('BestIncome.txt', sep=',', header=None)\n",
    "survey = pd.read_csv('SurvIncome.txt', sep=',', header=None)\n",
    "best = best.rename(index=int, columns={0:'lab_inc', 1:'cap_inc', 2:'hgt', 3: 'wgt'})\n",
    "survey = survey.rename(index=int, columns={0:'tot_inc',1:'wgt',2:'age',3:'gender'})"
   ]
  },
  {
   "cell_type": "code",
   "execution_count": 4,
   "metadata": {},
   "outputs": [
    {
     "data": {
      "text/html": [
       "<div>\n",
       "<style scoped>\n",
       "    .dataframe tbody tr th:only-of-type {\n",
       "        vertical-align: middle;\n",
       "    }\n",
       "\n",
       "    .dataframe tbody tr th {\n",
       "        vertical-align: top;\n",
       "    }\n",
       "\n",
       "    .dataframe thead th {\n",
       "        text-align: right;\n",
       "    }\n",
       "</style>\n",
       "<table border=\"1\" class=\"dataframe\">\n",
       "  <thead>\n",
       "    <tr style=\"text-align: right;\">\n",
       "      <th></th>\n",
       "      <th>lab_inc</th>\n",
       "      <th>cap_inc</th>\n",
       "      <th>hgt</th>\n",
       "      <th>wgt</th>\n",
       "    </tr>\n",
       "  </thead>\n",
       "  <tbody>\n",
       "    <tr>\n",
       "      <th>0</th>\n",
       "      <td>52655.605507</td>\n",
       "      <td>9279.509829</td>\n",
       "      <td>64.568138</td>\n",
       "      <td>152.920634</td>\n",
       "    </tr>\n",
       "    <tr>\n",
       "      <th>1</th>\n",
       "      <td>70586.979225</td>\n",
       "      <td>9451.016902</td>\n",
       "      <td>65.727648</td>\n",
       "      <td>159.534414</td>\n",
       "    </tr>\n",
       "    <tr>\n",
       "      <th>2</th>\n",
       "      <td>53738.008339</td>\n",
       "      <td>8078.132315</td>\n",
       "      <td>66.268796</td>\n",
       "      <td>152.502405</td>\n",
       "    </tr>\n",
       "    <tr>\n",
       "      <th>3</th>\n",
       "      <td>55128.180903</td>\n",
       "      <td>12692.670403</td>\n",
       "      <td>62.910559</td>\n",
       "      <td>149.218189</td>\n",
       "    </tr>\n",
       "    <tr>\n",
       "      <th>4</th>\n",
       "      <td>44482.794867</td>\n",
       "      <td>9812.975746</td>\n",
       "      <td>68.678295</td>\n",
       "      <td>152.726358</td>\n",
       "    </tr>\n",
       "  </tbody>\n",
       "</table>\n",
       "</div>"
      ],
      "text/plain": [
       "        lab_inc       cap_inc        hgt         wgt\n",
       "0  52655.605507   9279.509829  64.568138  152.920634\n",
       "1  70586.979225   9451.016902  65.727648  159.534414\n",
       "2  53738.008339   8078.132315  66.268796  152.502405\n",
       "3  55128.180903  12692.670403  62.910559  149.218189\n",
       "4  44482.794867   9812.975746  68.678295  152.726358"
      ]
     },
     "execution_count": 4,
     "metadata": {},
     "output_type": "execute_result"
    }
   ],
   "source": [
    "best.head()"
   ]
  },
  {
   "cell_type": "code",
   "execution_count": 5,
   "metadata": {},
   "outputs": [],
   "source": [
    "tot_inc_best = best.lab_inc + best.cap_inc\n",
    "x_best = np.column_stack((tot_inc_best, best.wgt))"
   ]
  },
  {
   "cell_type": "code",
   "execution_count": 6,
   "metadata": {},
   "outputs": [
    {
     "data": {
      "text/plain": [
       "LogisticRegression(C=1.0, class_weight=None, dual=False, fit_intercept=True,\n",
       "          intercept_scaling=1, max_iter=100, multi_class='ovr', n_jobs=1,\n",
       "          penalty='l2', random_state=None, solver='liblinear', tol=0.0001,\n",
       "          verbose=0, warm_start=False)"
      ]
     },
     "execution_count": 6,
     "metadata": {},
     "output_type": "execute_result"
    }
   ],
   "source": [
    "# with the common features: tot_inc and wgt\n",
    "# age ~ tot_inc and wgt\n",
    "x = np.column_stack((survey.tot_inc, survey.wgt))\n",
    "y_age = survey.age.values\n",
    "y_gender = survey.gender.values\n",
    "\n",
    "# simple linear regression: age ~ tot_inc + wgt\n",
    "regr_age = linear_model.LinearRegression()\n",
    "regr_age.fit(x, y_age)\n",
    "\n",
    "# logistic regression: gender ~ tot_inc + wgt\n",
    "regr_gender = linear_model.LogisticRegression()\n",
    "regr_gender.fit(x, y_gender)"
   ]
  },
  {
   "cell_type": "code",
   "execution_count": 7,
   "metadata": {},
   "outputs": [],
   "source": [
    "# compute the predicted age and gender based on te information in best\n",
    "pred_age = regr_age.predict(x_best)\n",
    "pred_gender = regr_gender.predict(x_best)"
   ]
  },
  {
   "cell_type": "code",
   "execution_count": 8,
   "metadata": {},
   "outputs": [],
   "source": [
    "# simple append the predictions onto the best dataset\n",
    "imputed_best = np.column_stack((best, pred_age, pred_gender))"
   ]
  },
  {
   "cell_type": "code",
   "execution_count": 9,
   "metadata": {},
   "outputs": [],
   "source": [
    "new_best = pd.DataFrame({'lab_inc':imputed_best[:,0],'cap_inc':imputed_best[:,1],\n",
    "                         'hgt':imputed_best[:,2],'wgt':imputed_best[:,3],\n",
    "                         'age':imputed_best[:,4],'gender':imputed_best[:,5]})"
   ]
  },
  {
   "cell_type": "code",
   "execution_count": 10,
   "metadata": {},
   "outputs": [
    {
     "data": {
      "text/html": [
       "<div>\n",
       "<style scoped>\n",
       "    .dataframe tbody tr th:only-of-type {\n",
       "        vertical-align: middle;\n",
       "    }\n",
       "\n",
       "    .dataframe tbody tr th {\n",
       "        vertical-align: top;\n",
       "    }\n",
       "\n",
       "    .dataframe thead th {\n",
       "        text-align: right;\n",
       "    }\n",
       "</style>\n",
       "<table border=\"1\" class=\"dataframe\">\n",
       "  <thead>\n",
       "    <tr style=\"text-align: right;\">\n",
       "      <th></th>\n",
       "      <th>lab_inc</th>\n",
       "      <th>cap_inc</th>\n",
       "      <th>hgt</th>\n",
       "      <th>wgt</th>\n",
       "      <th>age</th>\n",
       "      <th>gender</th>\n",
       "    </tr>\n",
       "  </thead>\n",
       "  <tbody>\n",
       "    <tr>\n",
       "      <th>count</th>\n",
       "      <td>10000.000000</td>\n",
       "      <td>10000.000000</td>\n",
       "      <td>10000.000000</td>\n",
       "      <td>10000.000000</td>\n",
       "      <td>10000.000000</td>\n",
       "      <td>10000.000000</td>\n",
       "    </tr>\n",
       "    <tr>\n",
       "      <th>mean</th>\n",
       "      <td>57052.925133</td>\n",
       "      <td>9985.798563</td>\n",
       "      <td>65.014021</td>\n",
       "      <td>150.006011</td>\n",
       "      <td>44.890828</td>\n",
       "      <td>0.471700</td>\n",
       "    </tr>\n",
       "    <tr>\n",
       "      <th>std</th>\n",
       "      <td>8036.544363</td>\n",
       "      <td>2010.123691</td>\n",
       "      <td>1.999692</td>\n",
       "      <td>9.973001</td>\n",
       "      <td>0.219150</td>\n",
       "      <td>0.499223</td>\n",
       "    </tr>\n",
       "    <tr>\n",
       "      <th>min</th>\n",
       "      <td>22917.607900</td>\n",
       "      <td>1495.191896</td>\n",
       "      <td>58.176154</td>\n",
       "      <td>114.510700</td>\n",
       "      <td>43.976495</td>\n",
       "      <td>0.000000</td>\n",
       "    </tr>\n",
       "    <tr>\n",
       "      <th>25%</th>\n",
       "      <td>51624.339880</td>\n",
       "      <td>8611.756679</td>\n",
       "      <td>63.652971</td>\n",
       "      <td>143.341979</td>\n",
       "      <td>44.743776</td>\n",
       "      <td>0.000000</td>\n",
       "    </tr>\n",
       "    <tr>\n",
       "      <th>50%</th>\n",
       "      <td>56968.709935</td>\n",
       "      <td>9969.840117</td>\n",
       "      <td>65.003557</td>\n",
       "      <td>149.947641</td>\n",
       "      <td>44.886944</td>\n",
       "      <td>0.000000</td>\n",
       "    </tr>\n",
       "    <tr>\n",
       "      <th>75%</th>\n",
       "      <td>62408.232277</td>\n",
       "      <td>11339.905773</td>\n",
       "      <td>66.356915</td>\n",
       "      <td>156.724586</td>\n",
       "      <td>45.038991</td>\n",
       "      <td>1.000000</td>\n",
       "    </tr>\n",
       "    <tr>\n",
       "      <th>max</th>\n",
       "      <td>90059.898537</td>\n",
       "      <td>19882.320069</td>\n",
       "      <td>72.802277</td>\n",
       "      <td>185.408280</td>\n",
       "      <td>45.703819</td>\n",
       "      <td>1.000000</td>\n",
       "    </tr>\n",
       "  </tbody>\n",
       "</table>\n",
       "</div>"
      ],
      "text/plain": [
       "            lab_inc       cap_inc           hgt           wgt           age  \\\n",
       "count  10000.000000  10000.000000  10000.000000  10000.000000  10000.000000   \n",
       "mean   57052.925133   9985.798563     65.014021    150.006011     44.890828   \n",
       "std     8036.544363   2010.123691      1.999692      9.973001      0.219150   \n",
       "min    22917.607900   1495.191896     58.176154    114.510700     43.976495   \n",
       "25%    51624.339880   8611.756679     63.652971    143.341979     44.743776   \n",
       "50%    56968.709935   9969.840117     65.003557    149.947641     44.886944   \n",
       "75%    62408.232277  11339.905773     66.356915    156.724586     45.038991   \n",
       "max    90059.898537  19882.320069     72.802277    185.408280     45.703819   \n",
       "\n",
       "             gender  \n",
       "count  10000.000000  \n",
       "mean       0.471700  \n",
       "std        0.499223  \n",
       "min        0.000000  \n",
       "25%        0.000000  \n",
       "50%        0.000000  \n",
       "75%        1.000000  \n",
       "max        1.000000  "
      ]
     },
     "execution_count": 10,
     "metadata": {},
     "output_type": "execute_result"
    }
   ],
   "source": [
    "new_best.describe()"
   ]
  },
  {
   "cell_type": "code",
   "execution_count": 11,
   "metadata": {},
   "outputs": [
    {
     "data": {
      "text/html": [
       "<style  type=\"text/css\" >\n",
       "    #T_6ae9ec32_d103_11e8_99b7_a45e60d7b7c5row0_col0 {\n",
       "            background-color:  #023858;\n",
       "        }    #T_6ae9ec32_d103_11e8_99b7_a45e60d7b7c5row0_col1 {\n",
       "            background-color:  #fff7fb;\n",
       "        }    #T_6ae9ec32_d103_11e8_99b7_a45e60d7b7c5row0_col2 {\n",
       "            background-color:  #f5eff6;\n",
       "        }    #T_6ae9ec32_d103_11e8_99b7_a45e60d7b7c5row0_col3 {\n",
       "            background-color:  #c6cce3;\n",
       "        }    #T_6ae9ec32_d103_11e8_99b7_a45e60d7b7c5row0_col4 {\n",
       "            background-color:  #03476f;\n",
       "        }    #T_6ae9ec32_d103_11e8_99b7_a45e60d7b7c5row0_col5 {\n",
       "            background-color:  #056dab;\n",
       "        }    #T_6ae9ec32_d103_11e8_99b7_a45e60d7b7c5row1_col0 {\n",
       "            background-color:  #fff7fb;\n",
       "        }    #T_6ae9ec32_d103_11e8_99b7_a45e60d7b7c5row1_col1 {\n",
       "            background-color:  #023858;\n",
       "        }    #T_6ae9ec32_d103_11e8_99b7_a45e60d7b7c5row1_col2 {\n",
       "            background-color:  #f2ecf5;\n",
       "        }    #T_6ae9ec32_d103_11e8_99b7_a45e60d7b7c5row1_col3 {\n",
       "            background-color:  #c5cce3;\n",
       "        }    #T_6ae9ec32_d103_11e8_99b7_a45e60d7b7c5row1_col4 {\n",
       "            background-color:  #97b7d7;\n",
       "        }    #T_6ae9ec32_d103_11e8_99b7_a45e60d7b7c5row1_col5 {\n",
       "            background-color:  #9ab8d8;\n",
       "        }    #T_6ae9ec32_d103_11e8_99b7_a45e60d7b7c5row2_col0 {\n",
       "            background-color:  #fff7fb;\n",
       "        }    #T_6ae9ec32_d103_11e8_99b7_a45e60d7b7c5row2_col1 {\n",
       "            background-color:  #fdf5fa;\n",
       "        }    #T_6ae9ec32_d103_11e8_99b7_a45e60d7b7c5row2_col2 {\n",
       "            background-color:  #023858;\n",
       "        }    #T_6ae9ec32_d103_11e8_99b7_a45e60d7b7c5row2_col3 {\n",
       "            background-color:  #9cb9d9;\n",
       "        }    #T_6ae9ec32_d103_11e8_99b7_a45e60d7b7c5row2_col4 {\n",
       "            background-color:  #dcdaeb;\n",
       "        }    #T_6ae9ec32_d103_11e8_99b7_a45e60d7b7c5row2_col5 {\n",
       "            background-color:  #d5d5e8;\n",
       "        }    #T_6ae9ec32_d103_11e8_99b7_a45e60d7b7c5row3_col0 {\n",
       "            background-color:  #fff7fb;\n",
       "        }    #T_6ae9ec32_d103_11e8_99b7_a45e60d7b7c5row3_col1 {\n",
       "            background-color:  #fff7fb;\n",
       "        }    #T_6ae9ec32_d103_11e8_99b7_a45e60d7b7c5row3_col2 {\n",
       "            background-color:  #d6d6e9;\n",
       "        }    #T_6ae9ec32_d103_11e8_99b7_a45e60d7b7c5row3_col3 {\n",
       "            background-color:  #023858;\n",
       "        }    #T_6ae9ec32_d103_11e8_99b7_a45e60d7b7c5row3_col4 {\n",
       "            background-color:  #fff7fb;\n",
       "        }    #T_6ae9ec32_d103_11e8_99b7_a45e60d7b7c5row3_col5 {\n",
       "            background-color:  #fff7fb;\n",
       "        }    #T_6ae9ec32_d103_11e8_99b7_a45e60d7b7c5row4_col0 {\n",
       "            background-color:  #034c78;\n",
       "        }    #T_6ae9ec32_d103_11e8_99b7_a45e60d7b7c5row4_col1 {\n",
       "            background-color:  #d5d5e8;\n",
       "        }    #T_6ae9ec32_d103_11e8_99b7_a45e60d7b7c5row4_col2 {\n",
       "            background-color:  #fcf4fa;\n",
       "        }    #T_6ae9ec32_d103_11e8_99b7_a45e60d7b7c5row4_col3 {\n",
       "            background-color:  #f6eff7;\n",
       "        }    #T_6ae9ec32_d103_11e8_99b7_a45e60d7b7c5row4_col4 {\n",
       "            background-color:  #023858;\n",
       "        }    #T_6ae9ec32_d103_11e8_99b7_a45e60d7b7c5row4_col5 {\n",
       "            background-color:  #045f95;\n",
       "        }    #T_6ae9ec32_d103_11e8_99b7_a45e60d7b7c5row5_col0 {\n",
       "            background-color:  #2182b9;\n",
       "        }    #T_6ae9ec32_d103_11e8_99b7_a45e60d7b7c5row5_col1 {\n",
       "            background-color:  #e1dfed;\n",
       "        }    #T_6ae9ec32_d103_11e8_99b7_a45e60d7b7c5row5_col2 {\n",
       "            background-color:  #fff7fb;\n",
       "        }    #T_6ae9ec32_d103_11e8_99b7_a45e60d7b7c5row5_col3 {\n",
       "            background-color:  #fff7fb;\n",
       "        }    #T_6ae9ec32_d103_11e8_99b7_a45e60d7b7c5row5_col4 {\n",
       "            background-color:  #046198;\n",
       "        }    #T_6ae9ec32_d103_11e8_99b7_a45e60d7b7c5row5_col5 {\n",
       "            background-color:  #023858;\n",
       "        }</style>  \n",
       "<table id=\"T_6ae9ec32_d103_11e8_99b7_a45e60d7b7c5\" > \n",
       "<thead>    <tr> \n",
       "        <th class=\"blank level0\" ></th> \n",
       "        <th class=\"col_heading level0 col0\" >lab_inc</th> \n",
       "        <th class=\"col_heading level0 col1\" >cap_inc</th> \n",
       "        <th class=\"col_heading level0 col2\" >hgt</th> \n",
       "        <th class=\"col_heading level0 col3\" >wgt</th> \n",
       "        <th class=\"col_heading level0 col4\" >age</th> \n",
       "        <th class=\"col_heading level0 col5\" >gender</th> \n",
       "    </tr></thead> \n",
       "<tbody>    <tr> \n",
       "        <th id=\"T_6ae9ec32_d103_11e8_99b7_a45e60d7b7c5level0_row0\" class=\"row_heading level0 row0\" >lab_inc</th> \n",
       "        <td id=\"T_6ae9ec32_d103_11e8_99b7_a45e60d7b7c5row0_col0\" class=\"data row0 col0\" >1</td> \n",
       "        <td id=\"T_6ae9ec32_d103_11e8_99b7_a45e60d7b7c5row0_col1\" class=\"data row0 col1\" >0.0053253</td> \n",
       "        <td id=\"T_6ae9ec32_d103_11e8_99b7_a45e60d7b7c5row0_col2\" class=\"data row0 col2\" >0.00278978</td> \n",
       "        <td id=\"T_6ae9ec32_d103_11e8_99b7_a45e60d7b7c5row0_col3\" class=\"data row0 col3\" >0.00450691</td> \n",
       "        <td id=\"T_6ae9ec32_d103_11e8_99b7_a45e60d7b7c5row0_col4\" class=\"data row0 col4\" >0.924053</td> \n",
       "        <td id=\"T_6ae9ec32_d103_11e8_99b7_a45e60d7b7c5row0_col5\" class=\"data row0 col5\" >0.677675</td> \n",
       "    </tr>    <tr> \n",
       "        <th id=\"T_6ae9ec32_d103_11e8_99b7_a45e60d7b7c5level0_row1\" class=\"row_heading level0 row1\" >cap_inc</th> \n",
       "        <td id=\"T_6ae9ec32_d103_11e8_99b7_a45e60d7b7c5row1_col0\" class=\"data row1 col0\" >0.0053253</td> \n",
       "        <td id=\"T_6ae9ec32_d103_11e8_99b7_a45e60d7b7c5row1_col1\" class=\"data row1 col1\" >1</td> \n",
       "        <td id=\"T_6ae9ec32_d103_11e8_99b7_a45e60d7b7c5row1_col2\" class=\"data row1 col2\" >0.0215716</td> \n",
       "        <td id=\"T_6ae9ec32_d103_11e8_99b7_a45e60d7b7c5row1_col3\" class=\"data row1 col3\" >0.00629868</td> \n",
       "        <td id=\"T_6ae9ec32_d103_11e8_99b7_a45e60d7b7c5row1_col4\" class=\"data row1 col4\" >0.234159</td> \n",
       "        <td id=\"T_6ae9ec32_d103_11e8_99b7_a45e60d7b7c5row1_col5\" class=\"data row1 col5\" >0.176901</td> \n",
       "    </tr>    <tr> \n",
       "        <th id=\"T_6ae9ec32_d103_11e8_99b7_a45e60d7b7c5level0_row2\" class=\"row_heading level0 row2\" >hgt</th> \n",
       "        <td id=\"T_6ae9ec32_d103_11e8_99b7_a45e60d7b7c5row2_col0\" class=\"data row2 col0\" >0.00278978</td> \n",
       "        <td id=\"T_6ae9ec32_d103_11e8_99b7_a45e60d7b7c5row2_col1\" class=\"data row2 col1\" >0.0215716</td> \n",
       "        <td id=\"T_6ae9ec32_d103_11e8_99b7_a45e60d7b7c5row2_col2\" class=\"data row2 col2\" >1</td> \n",
       "        <td id=\"T_6ae9ec32_d103_11e8_99b7_a45e60d7b7c5row2_col3\" class=\"data row2 col3\" >0.172103</td> \n",
       "        <td id=\"T_6ae9ec32_d103_11e8_99b7_a45e60d7b7c5row2_col4\" class=\"data row2 col4\" >-0.0450828</td> \n",
       "        <td id=\"T_6ae9ec32_d103_11e8_99b7_a45e60d7b7c5row2_col5\" class=\"data row2 col5\" >-0.0669724</td> \n",
       "    </tr>    <tr> \n",
       "        <th id=\"T_6ae9ec32_d103_11e8_99b7_a45e60d7b7c5level0_row3\" class=\"row_heading level0 row3\" >wgt</th> \n",
       "        <td id=\"T_6ae9ec32_d103_11e8_99b7_a45e60d7b7c5row3_col0\" class=\"data row3 col0\" >0.00450691</td> \n",
       "        <td id=\"T_6ae9ec32_d103_11e8_99b7_a45e60d7b7c5row3_col1\" class=\"data row3 col1\" >0.00629868</td> \n",
       "        <td id=\"T_6ae9ec32_d103_11e8_99b7_a45e60d7b7c5row3_col2\" class=\"data row3 col2\" >0.172103</td> \n",
       "        <td id=\"T_6ae9ec32_d103_11e8_99b7_a45e60d7b7c5row3_col3\" class=\"data row3 col3\" >1</td> \n",
       "        <td id=\"T_6ae9ec32_d103_11e8_99b7_a45e60d7b7c5row3_col4\" class=\"data row3 col4\" >-0.300288</td> \n",
       "        <td id=\"T_6ae9ec32_d103_11e8_99b7_a45e60d7b7c5row3_col5\" class=\"data row3 col5\" >-0.382659</td> \n",
       "    </tr>    <tr> \n",
       "        <th id=\"T_6ae9ec32_d103_11e8_99b7_a45e60d7b7c5level0_row4\" class=\"row_heading level0 row4\" >age</th> \n",
       "        <td id=\"T_6ae9ec32_d103_11e8_99b7_a45e60d7b7c5row4_col0\" class=\"data row4 col0\" >0.924053</td> \n",
       "        <td id=\"T_6ae9ec32_d103_11e8_99b7_a45e60d7b7c5row4_col1\" class=\"data row4 col1\" >0.234159</td> \n",
       "        <td id=\"T_6ae9ec32_d103_11e8_99b7_a45e60d7b7c5row4_col2\" class=\"data row4 col2\" >-0.0450828</td> \n",
       "        <td id=\"T_6ae9ec32_d103_11e8_99b7_a45e60d7b7c5row4_col3\" class=\"data row4 col3\" >-0.300288</td> \n",
       "        <td id=\"T_6ae9ec32_d103_11e8_99b7_a45e60d7b7c5row4_col4\" class=\"data row4 col4\" >1</td> \n",
       "        <td id=\"T_6ae9ec32_d103_11e8_99b7_a45e60d7b7c5row4_col5\" class=\"data row4 col5\" >0.78426</td> \n",
       "    </tr>    <tr> \n",
       "        <th id=\"T_6ae9ec32_d103_11e8_99b7_a45e60d7b7c5level0_row5\" class=\"row_heading level0 row5\" >gender</th> \n",
       "        <td id=\"T_6ae9ec32_d103_11e8_99b7_a45e60d7b7c5row5_col0\" class=\"data row5 col0\" >0.677675</td> \n",
       "        <td id=\"T_6ae9ec32_d103_11e8_99b7_a45e60d7b7c5row5_col1\" class=\"data row5 col1\" >0.176901</td> \n",
       "        <td id=\"T_6ae9ec32_d103_11e8_99b7_a45e60d7b7c5row5_col2\" class=\"data row5 col2\" >-0.0669724</td> \n",
       "        <td id=\"T_6ae9ec32_d103_11e8_99b7_a45e60d7b7c5row5_col3\" class=\"data row5 col3\" >-0.382659</td> \n",
       "        <td id=\"T_6ae9ec32_d103_11e8_99b7_a45e60d7b7c5row5_col4\" class=\"data row5 col4\" >0.78426</td> \n",
       "        <td id=\"T_6ae9ec32_d103_11e8_99b7_a45e60d7b7c5row5_col5\" class=\"data row5 col5\" >1</td> \n",
       "    </tr></tbody> \n",
       "</table> "
      ],
      "text/plain": [
       "<pandas.io.formats.style.Styler at 0x1a23474240>"
      ]
     },
     "execution_count": 11,
     "metadata": {},
     "output_type": "execute_result"
    }
   ],
   "source": [
    "corr = new_best.corr()\n",
    "corr.style.background_gradient()"
   ]
  },
  {
   "cell_type": "code",
   "execution_count": 12,
   "metadata": {},
   "outputs": [],
   "source": [
    "import matplotlib.pyplot as plt\n",
    "\n",
    "def plot_corr(df,size=10):\n",
    "    '''\n",
    "    Function plots a graphical correlation matrix for each pair of columns in the dataframe.\n",
    "\n",
    "    Input:\n",
    "        df: pandas DataFrame\n",
    "        size: vertical and horizontal size of the plot\n",
    "    '''\n",
    "\n",
    "    corr = df.corr()\n",
    "    fig, ax = plt.subplots(figsize=(size, size))\n",
    "    ax.matshow(corr)\n",
    "    plt.xticks(range(len(corr.columns)), corr.columns);\n",
    "    plt.yticks(range(len(corr.columns)), corr.columns);"
   ]
  },
  {
   "cell_type": "code",
   "execution_count": 13,
   "metadata": {},
   "outputs": [
    {
     "data": {
      "image/png": "[encoded data removed]",
      "text/plain": [
       "<Figure size 720x720 with 1 Axes>"
      ]
     },
     "metadata": {
      "needs_background": "light"
     },
     "output_type": "display_data"
    }
   ],
   "source": [
    "plot_corr(new_best)"
   ]
  },
  {
   "cell_type": "code",
   "execution_count": 14,
   "metadata": {},
   "outputs": [],
   "source": [
    "def corr_plot(df):\n",
    "    import matplotlib.pyplot as plt\n",
    "    import numpy as np\n",
    "    import pandas as pd\n",
    "    \n",
    "    names = df.columns\n",
    "    N = len(names)\n",
    "    \n",
    "    correlations = df.corr()\n",
    "    fig = plt.figure()\n",
    "    ax = fig.add_subplot(111)\n",
    "    cax = ax.matshow(correlations, vmin=-1, vmax=1)\n",
    "    fig.colorbar(cax)\n",
    "    ticks = np.arange(0,N,1)\n",
    "    ax.set_xticks(ticks)\n",
    "    ax.set_yticks(ticks)\n",
    "    ax.set_xticklabels(names)\n",
    "    ax.set_yticklabels(names)\n",
    "    plt.show()"
   ]
  },
  {
   "cell_type": "code",
   "execution_count": 15,
   "metadata": {},
   "outputs": [
    {
     "data": {
      "image/png": "[encoded data removed]",
      "text/plain": [
       "<Figure size 432x288 with 2 Axes>"
      ]
     },
     "metadata": {
      "needs_background": "light"
     },
     "output_type": "display_data"
    }
   ],
   "source": [
    "corr_plot(new_best)"
   ]
  }
 ],
 "metadata": {
  "kernelspec": {
   "display_name": "Python 3",
   "language": "python",
   "name": "python3"
  },
  "language_info": {
   "codemirror_mode": {
    "name": "ipython",
    "version": 3
   },
   "file_extension": ".py",
   "mimetype": "text/x-python",
   "name": "python",
   "nbconvert_exporter": "python",
   "pygments_lexer": "ipython3",
   "version": "3.7.0"
  }
 },
 "nbformat": 4,
 "nbformat_minor": 2
}
