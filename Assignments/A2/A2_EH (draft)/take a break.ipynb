{
 "cells": [
  {
   "cell_type": "code",
   "execution_count": 3,
   "metadata": {},
   "outputs": [],
   "source": [
    "import glob, os\n",
    "import numpy as np\n",
    "from sklearn import linear_model\n",
    "import pandas as pd\n",
    "import matplotlib.pyplot as plt\n",
    "from sklearn.metrics import mean_squared_error, r2_score"
   ]
  },
  {
   "cell_type": "code",
   "execution_count": 4,
   "metadata": {},
   "outputs": [
    {
     "name": "stdout",
     "output_type": "stream",
     "text": [
      "BestIncome.txt\n",
      "IncomeIntel.txt\n",
      "SurvIncome.txt\n"
     ]
    }
   ],
   "source": [
    "# fetching the file with 'txt' filename ext.\n",
    "for file in glob.glob(\"*.txt\"):\n",
    "    print(file)"
   ]
  },
  {
   "cell_type": "code",
   "execution_count": 6,
   "metadata": {},
   "outputs": [],
   "source": [
    "# open and rename the column names of the imported files\n",
    "best = pd.read_csv('BestIncome.txt', sep=',', header=None)\n",
    "survey = pd.read_csv('SurvIncome.txt', sep=',', header=None)\n",
    "best = best.rename(index=int, columns={0:'lab_inc', 1:'cap_inc', 2:'hgt', 3: 'wgt'})\n",
    "survey = survey.rename(index=int, columns={0:'tot_inc',1:'wgt',2:'age',3:'gender'})"
   ]
  },
  {
   "cell_type": "code",
   "execution_count": 7,
   "metadata": {},
   "outputs": [],
   "source": [
    "tot_inc_best = best.lab_inc + best.cap_inc\n",
    "x_best = np.column_stack((tot_inc_best, best.wgt))"
   ]
  },
  {
   "cell_type": "code",
   "execution_count": 10,
   "metadata": {},
   "outputs": [
    {
     "data": {
      "text/plain": [
       "LogisticRegression(C=1.0, class_weight=None, dual=False, fit_intercept=True,\n",
       "          intercept_scaling=1, max_iter=100, multi_class='ovr', n_jobs=1,\n",
       "          penalty='l2', random_state=None, solver='liblinear', tol=0.0001,\n",
       "          verbose=0, warm_start=False)"
      ]
     },
     "execution_count": 10,
     "metadata": {},
     "output_type": "execute_result"
    }
   ],
   "source": [
    "# with the common features: tot_inc and wgt\n",
    "# age ~ tot_inc and wgt\n",
    "X = np.column_stack((survey.tot_inc, survey.wgt))\n",
    "y_age = survey.age.values\n",
    "y_gender = survey.gender.values\n",
    "\n",
    "# simple linear regression: age ~ tot_inc + wgt\n",
    "regr_age = linear_model.LinearRegression()\n",
    "regr_age.fit(X, y_age)\n",
    "\n",
    "# logistic regression: gender ~ tot_inc + wgt\n",
    "regr_gender = linear_model.LogisticRegression()\n",
    "regr_gender.fit(X, y_gender)"
   ]
  },
  {
   "cell_type": "code",
   "execution_count": 11,
   "metadata": {},
   "outputs": [],
   "source": [
    "# compute the predicted age and gender based on te information in best\n",
    "pred_age = regr_age.predict(x_best)\n",
    "pred_gender = regr_gender.predict(x_best)"
   ]
  },
  {
   "cell_type": "code",
   "execution_count": 12,
   "metadata": {},
   "outputs": [],
   "source": [
    "# simple append the predictions onto the best dataset\n",
    "imputed_best = np.column_stack((best, pred_age, pred_gender))"
   ]
  },
  {
   "cell_type": "code",
   "execution_count": 13,
   "metadata": {},
   "outputs": [
    {
     "name": "stdout",
     "output_type": "stream",
     "text": [
      "[[5.26556055e+04 9.27950983e+03 6.45681377e+01 1.52920634e+02\n",
      "  4.47426137e+01 0.00000000e+00]\n",
      " [7.05869792e+04 9.45101690e+03 6.57276475e+01 1.59534414e+02\n",
      "  4.51543874e+01 1.00000000e+00]\n",
      " [5.37380083e+04 8.07813231e+03 6.62687957e+01 1.52502405e+02\n",
      "  4.47424267e+01 0.00000000e+00]\n",
      " ...\n",
      " [5.07253106e+04 1.31952181e+04 6.45088729e+01 1.54657639e+02\n",
      "  4.47809741e+01 0.00000000e+00]\n",
      " [5.63928241e+04 8.47059272e+03 6.21615558e+01 1.45498194e+02\n",
      "  4.48663081e+01 0.00000000e+00]\n",
      " [4.42740982e+04 1.27657485e+04 6.49741455e+01 1.35936862e+02\n",
      "  4.47334095e+01 0.00000000e+00]]\n"
     ]
    }
   ],
   "source": [
    "print(imputed_best)"
   ]
  },
  {
   "cell_type": "code",
   "execution_count": 14,
   "metadata": {},
   "outputs": [
    {
     "ename": "AttributeError",
     "evalue": "'numpy.ndarray' object has no attribute 'describe'",
     "output_type": "error",
     "traceback": [
      "\u001b[0;31m---------------------------------------------------------------------------\u001b[0m",
      "\u001b[0;31mAttributeError\u001b[0m                            Traceback (most recent call last)",
      "\u001b[0;32m<ipython-input-14-73ad0e2b6ca6>\u001b[0m in \u001b[0;36m<module>\u001b[0;34m()\u001b[0m\n\u001b[0;32m----> 1\u001b[0;31m \u001b[0mimputed_best\u001b[0m\u001b[0;34m.\u001b[0m\u001b[0mdescribe\u001b[0m\u001b[0;34m(\u001b[0m\u001b[0;34m)\u001b[0m\u001b[0;34m\u001b[0m\u001b[0m\n\u001b[0m",
      "\u001b[0;31mAttributeError\u001b[0m: 'numpy.ndarray' object has no attribute 'describe'"
     ]
    }
   ],
   "source": [
    "imputed_best.describe()"
   ]
  },
  {
   "cell_type": "code",
   "execution_count": null,
   "metadata": {},
   "outputs": [],
   "source": []
  }
 ],
 "metadata": {
  "kernelspec": {
   "display_name": "Python 3",
   "language": "python",
   "name": "python3"
  },
  "language_info": {
   "codemirror_mode": {
    "name": "ipython",
    "version": 3
   },
   "file_extension": ".py",
   "mimetype": "text/x-python",
   "name": "python",
   "nbconvert_exporter": "python",
   "pygments_lexer": "ipython3",
   "version": "3.7.0"
  }
 },
 "nbformat": 4,
 "nbformat_minor": 2
}
